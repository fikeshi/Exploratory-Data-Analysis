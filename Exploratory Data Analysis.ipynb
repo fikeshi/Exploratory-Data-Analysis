{
 "cells": [
  {
   "cell_type": "markdown",
   "metadata": {},
   "source": [
    "## Census Project"
   ]
  },
  {
   "cell_type": "code",
   "execution_count": 2,
   "metadata": {
    "id": "7xAQM5YKDCLQ"
   },
   "outputs": [],
   "source": [
    "#importing necesssary libraries\n",
    "import pandas as pd\n",
    "import numpy as np\n",
    "import seaborn as sns\n",
    "import matplotlib.pyplot as plt\n",
    "from matplotlib.ticker import MaxNLocator\n",
    "import warnings\n",
    "warnings.filterwarnings(\"ignore\")"
   ]
  },
  {
   "cell_type": "code",
   "execution_count": 3,
   "metadata": {
    "colab": {
     "base_uri": "https://localhost:8080/",
     "height": 310
    },
    "id": "_GfbvhHHDDxt",
    "outputId": "a468608d-0c7d-444b-e852-1097f558f3c6"
   },
   "outputs": [
    {
     "data": {
      "text/html": [
       "<div>\n",
       "<style scoped>\n",
       "    .dataframe tbody tr th:only-of-type {\n",
       "        vertical-align: middle;\n",
       "    }\n",
       "\n",
       "    .dataframe tbody tr th {\n",
       "        vertical-align: top;\n",
       "    }\n",
       "\n",
       "    .dataframe thead th {\n",
       "        text-align: right;\n",
       "    }\n",
       "</style>\n",
       "<table border=\"1\" class=\"dataframe\">\n",
       "  <thead>\n",
       "    <tr style=\"text-align: right;\">\n",
       "      <th></th>\n",
       "      <th>House Number</th>\n",
       "      <th>Street</th>\n",
       "      <th>First Name</th>\n",
       "      <th>Surname</th>\n",
       "      <th>Age</th>\n",
       "      <th>Relationship to Head of House</th>\n",
       "      <th>Marital Status</th>\n",
       "      <th>Gender</th>\n",
       "      <th>Occupation</th>\n",
       "      <th>Infirmity</th>\n",
       "      <th>Religion</th>\n",
       "    </tr>\n",
       "  </thead>\n",
       "  <tbody>\n",
       "    <tr>\n",
       "      <th>0</th>\n",
       "      <td>1</td>\n",
       "      <td>Harris Wall</td>\n",
       "      <td>Samuel</td>\n",
       "      <td>Thompson</td>\n",
       "      <td>62</td>\n",
       "      <td>Head</td>\n",
       "      <td>Divorced</td>\n",
       "      <td>Male</td>\n",
       "      <td>Actuary</td>\n",
       "      <td>NaN</td>\n",
       "      <td>Catholic</td>\n",
       "    </tr>\n",
       "    <tr>\n",
       "      <th>1</th>\n",
       "      <td>1</td>\n",
       "      <td>Harris Wall</td>\n",
       "      <td>Anne</td>\n",
       "      <td>Thompson</td>\n",
       "      <td>5</td>\n",
       "      <td>Granddaughter</td>\n",
       "      <td>NaN</td>\n",
       "      <td>Female</td>\n",
       "      <td>Student</td>\n",
       "      <td>NaN</td>\n",
       "      <td>NaN</td>\n",
       "    </tr>\n",
       "    <tr>\n",
       "      <th>2</th>\n",
       "      <td>2</td>\n",
       "      <td>Harris Wall</td>\n",
       "      <td>Shaun</td>\n",
       "      <td>Simpson</td>\n",
       "      <td>57</td>\n",
       "      <td>Head</td>\n",
       "      <td>Married</td>\n",
       "      <td>Male</td>\n",
       "      <td>Chief of Staff</td>\n",
       "      <td>NaN</td>\n",
       "      <td>Christian</td>\n",
       "    </tr>\n",
       "    <tr>\n",
       "      <th>3</th>\n",
       "      <td>2</td>\n",
       "      <td>Harris Wall</td>\n",
       "      <td>Kim</td>\n",
       "      <td>Simpson</td>\n",
       "      <td>57</td>\n",
       "      <td>Wife</td>\n",
       "      <td>Married</td>\n",
       "      <td>Female</td>\n",
       "      <td>Unemployed</td>\n",
       "      <td>NaN</td>\n",
       "      <td>NaN</td>\n",
       "    </tr>\n",
       "    <tr>\n",
       "      <th>4</th>\n",
       "      <td>3</td>\n",
       "      <td>Harris Wall</td>\n",
       "      <td>Sylvia</td>\n",
       "      <td>Harper</td>\n",
       "      <td>47</td>\n",
       "      <td>Head</td>\n",
       "      <td>Single</td>\n",
       "      <td>Female</td>\n",
       "      <td>Academic librarian</td>\n",
       "      <td>NaN</td>\n",
       "      <td>NaN</td>\n",
       "    </tr>\n",
       "    <tr>\n",
       "      <th>...</th>\n",
       "      <td>...</td>\n",
       "      <td>...</td>\n",
       "      <td>...</td>\n",
       "      <td>...</td>\n",
       "      <td>...</td>\n",
       "      <td>...</td>\n",
       "      <td>...</td>\n",
       "      <td>...</td>\n",
       "      <td>...</td>\n",
       "      <td>...</td>\n",
       "      <td>...</td>\n",
       "    </tr>\n",
       "    <tr>\n",
       "      <th>10596</th>\n",
       "      <td>1</td>\n",
       "      <td>Kestrel Haven</td>\n",
       "      <td>Emma</td>\n",
       "      <td>Young</td>\n",
       "      <td>35</td>\n",
       "      <td>Head</td>\n",
       "      <td>Single</td>\n",
       "      <td>Female</td>\n",
       "      <td>Contractor</td>\n",
       "      <td>NaN</td>\n",
       "      <td>NaN</td>\n",
       "    </tr>\n",
       "    <tr>\n",
       "      <th>10597</th>\n",
       "      <td>1</td>\n",
       "      <td>Kestrel Haven</td>\n",
       "      <td>Thomas</td>\n",
       "      <td>Palmer</td>\n",
       "      <td>40</td>\n",
       "      <td>Partner</td>\n",
       "      <td>Single</td>\n",
       "      <td>Male</td>\n",
       "      <td>Unemployed</td>\n",
       "      <td>NaN</td>\n",
       "      <td>NaN</td>\n",
       "    </tr>\n",
       "    <tr>\n",
       "      <th>10598</th>\n",
       "      <td>1</td>\n",
       "      <td>Kestrel Haven</td>\n",
       "      <td>Jacqueline</td>\n",
       "      <td>Young</td>\n",
       "      <td>9</td>\n",
       "      <td>Daughter</td>\n",
       "      <td>NaN</td>\n",
       "      <td>Female</td>\n",
       "      <td>Student</td>\n",
       "      <td>NaN</td>\n",
       "      <td>NaN</td>\n",
       "    </tr>\n",
       "    <tr>\n",
       "      <th>10599</th>\n",
       "      <td>1</td>\n",
       "      <td>Kestrel Haven</td>\n",
       "      <td>Sharon</td>\n",
       "      <td>Young</td>\n",
       "      <td>6</td>\n",
       "      <td>Daughter</td>\n",
       "      <td>NaN</td>\n",
       "      <td>Female</td>\n",
       "      <td>Student</td>\n",
       "      <td>NaN</td>\n",
       "      <td>NaN</td>\n",
       "    </tr>\n",
       "    <tr>\n",
       "      <th>10600</th>\n",
       "      <td>1</td>\n",
       "      <td>Kestrel Haven</td>\n",
       "      <td>Sam</td>\n",
       "      <td>Young</td>\n",
       "      <td>2</td>\n",
       "      <td>Son</td>\n",
       "      <td>NaN</td>\n",
       "      <td>Male</td>\n",
       "      <td>Child</td>\n",
       "      <td>NaN</td>\n",
       "      <td>NaN</td>\n",
       "    </tr>\n",
       "  </tbody>\n",
       "</table>\n",
       "<p>10601 rows × 11 columns</p>\n",
       "</div>"
      ],
      "text/plain": [
       "      House Number         Street  First Name   Surname Age  \\\n",
       "0                1    Harris Wall      Samuel  Thompson  62   \n",
       "1                1    Harris Wall        Anne  Thompson   5   \n",
       "2                2    Harris Wall       Shaun   Simpson  57   \n",
       "3                2    Harris Wall         Kim   Simpson  57   \n",
       "4                3    Harris Wall      Sylvia    Harper  47   \n",
       "...            ...            ...         ...       ...  ..   \n",
       "10596            1  Kestrel Haven        Emma     Young  35   \n",
       "10597            1  Kestrel Haven      Thomas    Palmer  40   \n",
       "10598            1  Kestrel Haven  Jacqueline     Young   9   \n",
       "10599            1  Kestrel Haven      Sharon     Young   6   \n",
       "10600            1  Kestrel Haven         Sam     Young   2   \n",
       "\n",
       "      Relationship to Head of House Marital Status  Gender  \\\n",
       "0                              Head       Divorced    Male   \n",
       "1                     Granddaughter            NaN  Female   \n",
       "2                              Head        Married    Male   \n",
       "3                              Wife        Married  Female   \n",
       "4                              Head         Single  Female   \n",
       "...                             ...            ...     ...   \n",
       "10596                          Head         Single  Female   \n",
       "10597                       Partner         Single    Male   \n",
       "10598                      Daughter            NaN  Female   \n",
       "10599                      Daughter            NaN  Female   \n",
       "10600                           Son            NaN    Male   \n",
       "\n",
       "               Occupation Infirmity   Religion  \n",
       "0                 Actuary       NaN   Catholic  \n",
       "1                 Student       NaN        NaN  \n",
       "2          Chief of Staff       NaN  Christian  \n",
       "3              Unemployed       NaN        NaN  \n",
       "4      Academic librarian       NaN        NaN  \n",
       "...                   ...       ...        ...  \n",
       "10596          Contractor       NaN        NaN  \n",
       "10597          Unemployed       NaN        NaN  \n",
       "10598             Student       NaN        NaN  \n",
       "10599             Student       NaN        NaN  \n",
       "10600               Child       NaN        NaN  \n",
       "\n",
       "[10601 rows x 11 columns]"
      ]
     },
     "metadata": {},
     "output_type": "display_data"
    }
   ],
   "source": [
    "#loading the dataset\n",
    "data = pd.read_csv(\"W-T2_A24census-5.csv\")\n",
    "display(data)"
   ]
  },
  {
   "cell_type": "code",
   "execution_count": 3,
   "metadata": {
    "colab": {
     "base_uri": "https://localhost:8080/",
     "height": 429
    },
    "id": "NSa7jCd9E2fU",
    "outputId": "ddb5a1f6-5f1b-456d-b7da-e830100220bc",
    "scrolled": true
   },
   "outputs": [
    {
     "data": {
      "text/plain": [
       "House Number                         0\n",
       "Street                               0\n",
       "First Name                           0\n",
       "Surname                              0\n",
       "Age                                  0\n",
       "Relationship to Head of House      760\n",
       "Marital Status                    2501\n",
       "Gender                               0\n",
       "Occupation                           0\n",
       "Infirmity                        10512\n",
       "Religion                          6162\n",
       "dtype: int64"
      ]
     },
     "execution_count": 3,
     "metadata": {},
     "output_type": "execute_result"
    }
   ],
   "source": [
    "data.isnull().sum() #check for the count of missing value(NaN) per column in the dataset"
   ]
  },
  {
   "cell_type": "code",
   "execution_count": 4,
   "metadata": {
    "scrolled": true
   },
   "outputs": [
    {
     "data": {
      "text/plain": [
       "House Number                     object\n",
       "Street                           object\n",
       "First Name                       object\n",
       "Surname                          object\n",
       "Age                              object\n",
       "Relationship to Head of House    object\n",
       "Marital Status                   object\n",
       "Gender                           object\n",
       "Occupation                       object\n",
       "Infirmity                        object\n",
       "Religion                         object\n",
       "dtype: object"
      ]
     },
     "execution_count": 4,
     "metadata": {},
     "output_type": "execute_result"
    }
   ],
   "source": [
    "data.dtypes #check datatypes of each column"
   ]
  },
  {
   "cell_type": "code",
   "execution_count": 5,
   "metadata": {
    "colab": {
     "base_uri": "https://localhost:8080/"
    },
    "id": "erorinrtDfGp",
    "outputId": "3d20e739-ee10-46fb-badc-a3f64f3ceb57"
   },
   "outputs": [
    {
     "name": "stdout",
     "output_type": "stream",
     "text": [
      "Unique values in 'House Number':\n",
      "['1' '2' '3' '4' '5' '6' '7' '8' '9' '10' '11' '12' '13' '14' '15' '16'\n",
      " '17' '18' '19' '20' '21' '22' '23' '24' '25' '26' '27' '28' '29' '30'\n",
      " '31' '32' '33' '34' '35' '36' '37' '38' '39' '40' '41' '42' '43' '44'\n",
      " '45' '46' '47' '48' '49' '50' '51' '52' '53' '54' '55' '56' '57' '58'\n",
      " '59' '60' '61' '62' '63' '64' '65' '66' '67' '68' '69' '70' '71' '72'\n",
      " '73' '74' '75' '76' '77' '78' '79' '80' '81' '82' '83' '84' '85' '86'\n",
      " '87' '88' '89' '90' '91' '92' '93' '94' '95' '96' '97' '98' '99' '100'\n",
      " '101' '102' '103' '104' '105' '106' '107' '108' '109' '110' '111' '112'\n",
      " '113' '114' '115' '116' '117' '118' '119' '120' '121' '122' '123' '124'\n",
      " '125' '126' '127' '128' '129' '130' '131' '132' '133' '134' '135' '136'\n",
      " '137' '138' '139' '140' '141' '142' '143' '144' '145' '146' '147' '148'\n",
      " '149' '150' '151' '152' '153' '154' '155' '156' '157' '158' '159' '160'\n",
      " '161' '162' '163' '164' '165' '166' '167' '168' '169' '170' '171' '172'\n",
      " '173' '174' '175' '176' '177' '178' '179' '180' '181' '182' '183' '184'\n",
      " '185' '186' '187' '188' '189' '190' '191' '192' '193' '194' '195' '196'\n",
      " '197' '198' '199' '200' '201' '202' '203' '204' '205' '206' '207' '208'\n",
      " '209' '210' '211' '212' '213' '214' '215' '216' '217' '218' '219' '220'\n",
      " '221' '222' '223' '224' '225' '226' '227' '228' '229' '230' 'Nine']\n",
      "--------------------------------------------------\n",
      "Unique values in 'Street':\n",
      "['Harris Wall' 'Wade Drive' 'Northumberland Stream' 'Preston Avenue'\n",
      " 'Mills Street' 'St.Luke Wall' 'Estuary Trace' 'Thames Lodge'\n",
      " 'Dawson Greens' 'Mahogany Drive' 'Norman Passage' 'Elizabeth Street'\n",
      " 'Davis Squares' 'Racoon Avenue' 'Lincolnbag Road' 'Lobster Lane'\n",
      " 'Elizabeth Islands' 'Chemist Inlet' 'Cambridge Avenue' 'Lunar Falls'\n",
      " 'Bennett Pine' 'Barrett Vista' 'Chelmsford Lodge' 'Southampton Track'\n",
      " 'Thomas Road' 'Station Parkway' 'Powell Islands' 'Canary Drive'\n",
      " 'Owens Pike' 'Rees Brook' 'Skylock Stream' 'Liverpool Greens'\n",
      " 'Pigeon Lane' 'Parkinson Street' 'Turner Loop' 'Bradford Avenue'\n",
      " 'Burton Keys' 'Dockers Drive' 'Earltap Drive' 'Cole Plains' 'Walsh Road'\n",
      " 'Lewis Heights' 'Storm Landing' 'Cinnamon Lane' 'Walsh Freeway'\n",
      " 'Tulip Drive' 'Pearson Spring' 'Bletchley Avenue' 'Tiger Street'\n",
      " 'Lincoln Passage' 'Freeman Street' 'Lisbon Lane' 'Bailey Islands'\n",
      " 'Griffin Street' 'Long Drive' 'Whitehall Drive' 'Narwhal Ports'\n",
      " 'Lisbonbail Drive' 'Waywardmix Drive' 'Trent Drive' 'Guinevere Oval'\n",
      " 'Grant Trail' 'September Street' 'Kaur Avenue' 'Lionpath Avenue'\n",
      " 'Kelly Branch' 'Smith Stream' 'Wright Spurs' 'Albanscurl Lane'\n",
      " 'Gloriousskip Street' 'Wood Lane' 'Thompson Ways' 'Bastille Avenue'\n",
      " 'Sandy Lane' 'Carlisle Avenue' 'Waterloohawk Road' 'Shaw Pass'\n",
      " 'Holt Bridge' 'Matthews Greens' 'Daffodil Avenue' 'Conifer Avenue'\n",
      " 'Bates Vista' 'Knight Road' 'Wilson Drive' 'Bradley Parks'\n",
      " 'Durham Avenue' 'Jones Meadows' 'Beaver Plains' 'Hazel Road'\n",
      " 'Salamanderweave Street' 'Fish Delve' 'Kraken Ranch' 'Statue Chalet'\n",
      " 'Ranger Abbey' 'Sandy Farm' 'Morar Tower' 'Butterfly Cottage'\n",
      " 'Spencer Stronghold' 'Doherty Fort' 'Bangor Institute' 'White Hold'\n",
      " 'Preston Inn' 'Walker Commune' 'Slater Stables' 'Kestrel Haven']\n",
      "--------------------------------------------------\n",
      "Unique values in 'First Name':\n",
      "['Samuel' 'Anne' 'Shaun' 'Kim' 'Sylvia' 'Antony' 'Linda' 'Stuart' 'Sian'\n",
      " 'Naomi' 'Mark' 'Charlene' 'Amber' 'Lisa' 'Colin' 'Clare' 'Lucy' 'Dylan'\n",
      " 'Harriet' 'Lawrence' 'Glenn' 'Melissa' 'Vanessa' 'Carly' 'Margaret'\n",
      " 'Suzanne' 'Dominic' 'Beverley' 'Ellie' 'Raymond' 'Kate' 'Rita' 'Sophie'\n",
      " 'Tom' 'Irene' 'Dorothy' 'Sharon' 'Rhys' 'Graeme' 'Jacqueline' 'Anthony'\n",
      " 'Hazel' 'Kirsty' 'Joel' 'Natalie' 'Brandon' 'Marie' 'Daniel' 'Lynda'\n",
      " 'Jack' 'Rachel' 'Duncan' 'Joe' 'Hollie' 'Teresa' 'Ashleigh' 'Donna'\n",
      " 'William' 'Catherine' 'Tony' 'Norman' 'Vincent' 'Hayley' 'Neil' 'Matthew'\n",
      " 'Annette' 'Mohamed' 'Zoe' 'Dean' 'Leon' 'Frances' 'Gordon' 'Wendy'\n",
      " 'Jayne' 'Glen' 'Clifford' 'Richard' 'Jane' 'Heather' 'Mohammad' 'Katie'\n",
      " 'Kathryn' 'Francesca' 'Chloe' 'Arthur' 'Yvonne' 'Gerard' 'Jordan' 'Lee'\n",
      " 'Sandra' 'Alison' 'Simon' 'Eileen' 'Paul' 'Ricky' 'Hilary' 'Benjamin'\n",
      " 'Amelia' 'Lewis' 'Joseph' 'Dawn' 'Robin' 'Caroline' 'Maurice' 'Cheryl'\n",
      " 'Malcolm' 'Guy' 'Leigh' 'Jeffrey' 'Leanne' 'Paula' 'Robert' 'Alexandra'\n",
      " 'Gary' 'Gemma' 'Bernard' 'Abigail' 'Ryan' 'Joan' 'Leonard' 'Aimee'\n",
      " 'Bryan' 'Jasmine' 'Sean' 'Denise' 'Hugh' 'Leslie' 'Emily' 'Rebecca'\n",
      " 'Abdul' 'Howard' 'June' 'Nigel' 'Barry' 'Amanda' 'Wayne' 'Rachael'\n",
      " 'Albert' 'Kimberley' 'Gavin' 'Mathew' 'Ruth' 'Olivia' 'Karl' 'Brian'\n",
      " 'Megan' 'Martyn' 'Andrew' 'Terence' 'Scott' 'Andrea' 'Lauren' 'Ian'\n",
      " 'Judith' 'Anna' 'Gillian' 'Jay' 'Nicola' 'Sam' 'Jessica' 'Jake'\n",
      " 'Kathleen' 'Alexander' 'Louis' 'Adrian' 'Russell' 'Angela' 'Adam'\n",
      " 'Douglas' 'Chelsea' 'John' 'Diana' 'Christine' 'Maureen' 'Jeremy'\n",
      " 'Georgina' 'Thomas' 'Carl' 'Sally' 'Kayleigh' 'Danny' 'Joshua' 'Elliott'\n",
      " 'Toby' 'Liam' 'Ann' 'Tina' 'Shirley' 'Bradley' 'Geoffrey' 'Hannah'\n",
      " 'Jodie' 'Danielle' 'Pauline' 'Katy' 'Harry' 'Georgia' 'Marc' 'Alice'\n",
      " 'Michael' 'Maria' 'Philip' 'Lindsey' 'Pamela' 'Kieran' 'Emma' 'Justin'\n",
      " 'Aaron' 'Gail' 'Connor' 'Lorraine' 'Phillip' 'Timothy' 'Holly' 'Damien'\n",
      " 'Rosie' 'Gareth' 'Joanne' 'Kerry' 'Deborah' 'Ashley' 'Valerie' 'Jemma'\n",
      " 'Victoria' 'Charlotte' 'Leah' 'Henry' 'Jill' 'Donald' 'Charles' 'Bethany'\n",
      " 'George' 'Shannon' 'Elliot' 'Elaine' 'Samantha' 'Cameron' 'Roy' 'Molly'\n",
      " 'Damian' 'Owen' 'Brett' 'Edward' 'Frank' 'Patrick' 'Alex' 'Mitchell'\n",
      " 'Karen' 'Christopher' 'Kevin' 'Lydia' 'Grace' 'Gregory' 'Tracy' 'Bethan'\n",
      " 'Mary' 'Callum' 'Stephen' 'Bruce' 'Stephanie' 'Geraldine' 'Peter'\n",
      " 'Natasha' 'Ross' 'Nicole' 'Helen' 'Martin' 'Stanley' 'Ronald' 'Ben'\n",
      " 'Jennifer' 'Gerald' 'Oliver' 'Carol' 'Shane' 'Marian' 'Louise'\n",
      " 'Josephine' 'Dennis' 'Conor' 'Marion' 'Lesley' 'Josh' 'Kelly' 'Francis'\n",
      " 'Stewart' 'Carole' 'Clive' 'Craig' 'Garry' 'Alan' 'David' 'Marilyn'\n",
      " 'Roger' 'Stacey' 'Iain' 'Reece' 'Mohammed' 'Jade' 'Jonathan' 'Allan'\n",
      " 'Rosemary' 'Graham' 'Victor' 'Jenna' 'Jason' 'Melanie' 'Diane' 'Jean'\n",
      " 'Beth' 'Julie' 'Joyce' 'Barbara' 'Declan' 'Julia' 'Sara' 'Debra'\n",
      " 'Elizabeth' 'Kenneth' 'Nathan' 'Tracey' 'Terry' 'Eric' 'Derek' 'Keith'\n",
      " 'Steven' 'Eleanor' 'Trevor' 'Julian' 'Denis' 'Joanna' 'Sheila' 'Max'\n",
      " 'Abbie' 'Claire' 'Luke' 'Charlie' 'Janet' 'Lynn' 'Sarah' 'Amy' 'Laura'\n",
      " 'Michelle' 'Marcus' 'Nicholas' 'Frederick' 'Susan' 'Carolyn' 'Darren'\n",
      " 'Lynne' 'Fiona' 'Kyle' 'Brenda' 'Jamie' 'Jacob' 'Christian' 'Janice'\n",
      " 'Patricia' 'Katherine' 'Paige' 'Dale' 'Mandy' 'Billy' 'James'\n",
      " 'Katy Marie']\n",
      "--------------------------------------------------\n",
      "Unique values in 'Surname':\n",
      "['Thompson' 'Simpson' 'Harper' 'Naylor' 'James' 'Buckley' 'Knight'\n",
      " 'Graham' 'Davis' 'Moore' 'Ford' 'Murphy' 'Gregory' 'Bennett' 'Carter'\n",
      " 'Forster' 'Grant' 'Heath' 'Smith' 'Howard' 'Atkinson' 'Hayward' 'Scott'\n",
      " 'Howell' 'Dennis' 'Singh' 'Baxter' 'Davies' 'Barnett' 'Sanders' 'Gill'\n",
      " 'White' 'Andrews' 'Walker' 'Walters' 'Page' 'Hall' 'Bolton' 'Jones'\n",
      " 'Skinner-Jones' 'Williams' 'Cunningham' 'Potter' 'Thomas' 'Turner' 'Sims'\n",
      " 'McCarthy' 'Dyer' 'Dixon' 'Harding' 'Holland' 'Mason' 'Gardiner' 'Patel'\n",
      " 'Hussain' 'Wright' 'Metcalfe' 'Saunders' 'Ali' 'Hunt' 'Pearson' 'Cook'\n",
      " 'Pratt' 'Chan' 'Young' 'Roberts' 'Woods' 'Carr' 'Walsh' 'Hughes'\n",
      " 'Stephenson' 'Newton' 'Armstrong' 'Richardson' 'Collins' 'Taylor'\n",
      " 'Mitchell' 'Barry' 'Foster' 'Bailey' 'Dobson' 'King' 'Bell' 'Donnelly'\n",
      " 'Tucker' 'Evans' 'Lee' 'Johnson' 'Wilson' 'Miller' 'Watts' 'Chapman'\n",
      " 'Robson' 'Davison' 'Marsh' 'Dickinson' 'Cole' 'Price' 'Stone' 'Bibi'\n",
      " 'Todd' 'Burrows' 'Clark' 'Jenkins' 'Morris' 'Jackson' 'Moss' 'Whittaker'\n",
      " 'Nicholson' 'Power' 'Richards' 'Wood' 'Hale' 'Carey' 'Pugh' 'Higgins'\n",
      " 'Day' 'Norman' 'Rowley' 'Phillips' 'Lowe' 'Adams' 'Fox' 'Atkins' 'Morgan'\n",
      " 'Oliver' 'Ellis' 'Cox' 'Hardy' 'Brown' 'Perry' 'Chandler' 'Harvey'\n",
      " 'Humphries' 'Ryan' 'Ward' 'Stokes' 'Gibbs' 'Sutton' 'Savage' 'Harris'\n",
      " 'Robinson' 'Butler' 'Allen' 'Sharp' 'Edwards' 'Dawson' 'Watson'\n",
      " 'Patterson' 'Clayton' 'Wheeler' 'Goddard' 'Green' 'Brooks' 'Slater'\n",
      " 'Parker' 'Begum' 'Burton' 'Nixon' 'Pollard' 'Arnold' 'Hanson-Smith'\n",
      " 'Thorpe' 'Clarke' 'Cross' 'Matthews' 'Sanderson' 'Murray-Thompson'\n",
      " 'Harrison' 'Norton' 'Holt' 'Rose' 'Hunter' 'Kaur' 'Tomlinson' 'Rhodes'\n",
      " 'Bird' 'Byrne' 'Owen' 'Crawford' 'Hancock' 'Berry' \"O'Sullivan\"\n",
      " 'Townsend' 'Barker' 'Martin' 'Vincent' 'Lee-Vincent' 'Wilkins' 'Yates'\n",
      " 'Bates' 'Griffiths' 'Douglas' 'Brady' 'Baldwin' 'Barnes' 'Akhtar'\n",
      " 'Francis' 'Lucas' 'Dodd' 'Weston' 'Gilbert' 'Farrell' 'Peters' 'Parkin'\n",
      " 'Austin' 'Hudson' 'Holmes' 'Bradshaw' 'Morrison-Oliver' 'Stewart' 'Wong'\n",
      " 'Webb' 'McDonald' 'Parry' 'Marshall' 'Hill' 'Doyle' 'Turnbull' 'Lewis'\n",
      " 'Lloyd' 'Chamberlain' 'Booth' 'Davey' 'Shaw' 'Webb-Shaw' 'Warren' 'Miles'\n",
      " 'Webster' 'Owen-Martin' 'Freeman' 'Ingram' 'Steele' 'Myers' 'Glover'\n",
      " 'Gallagher' 'Campbell' \"O'Connor\" 'Hodgson' 'Fitzgerald' 'Thomson'\n",
      " 'Williams-Garner' 'Ashton' 'Reeves' 'Hopkins' 'Howe' 'Burgess' 'Khan'\n",
      " 'Reid' 'Gough' 'Duffy' 'Fowler' 'Welch' 'Rogers' 'West' 'Jarvis' 'Hayes'\n",
      " 'Price-Mason' 'Pearce' 'Ahmed' 'Barrett' 'Cooper' 'Potts' 'Hewitt'\n",
      " 'Pritchard' 'Farmer' 'Bruce' 'Russell' 'Davidson' 'Shah' 'Leonard'\n",
      " 'Lloyd-Leonard' 'Parkes' 'Tyler' 'Gibson' 'Carroll' 'Kemp' 'Rowe'\n",
      " 'Williamson' 'Browne' 'Perkins' 'Wyatt' 'Payne' 'Hobbs' 'Stevens'\n",
      " 'Lawson' 'Middleton' 'Ellis-Glover' 'Gordon' 'Reynolds' 'Griffin'\n",
      " 'Fisher' 'Randall' 'Walker-Harris' 'Baker' 'Wells' 'Wall' 'Anderson'\n",
      " 'Little' 'Palmer' 'Alexander' 'Thompson-Turner' 'Long' 'Ball'\n",
      " 'Campbell-Hill' 'Riley' 'Russell-Carter' 'Greenwood' 'Peacock'\n",
      " 'Richards-Palmer' 'Duffy-Newton' 'Simmons' 'Swift' 'Quinn' 'Hutchinson'\n",
      " 'Storey' 'Burns' 'Birch' 'Curtis' 'Wilkinson' 'Franklin' 'Newman'\n",
      " 'Herbert' 'Burton-Hancock' 'Kay' 'Elliott' 'Osborne' 'Dale' 'Rahman'\n",
      " 'Lamb' 'Mahmood' 'May' 'Sharpe' 'Bartlett' 'Bull' 'Kelly' 'Coleman'\n",
      " 'Noble-Pearce' 'Murray' 'Bond' 'Payne-Austin' 'Lewis-Baker'\n",
      " 'Reynolds-Burton' 'Stephens' 'Kirby' 'Morrison-Marshall' 'Briggs'\n",
      " 'Barton' 'Lynch' 'Lane' 'Smith-Williams' 'Bradley' 'Morrison' 'Hope'\n",
      " 'Hammond' \"O'Neill\" 'Gray' 'Cameron' 'Turner-Cooper' 'Davies-Harris'\n",
      " 'McKenzie' 'Brookes' 'Smith-Jackson' 'Hooper' 'Nicholls' 'Thompson-Perry'\n",
      " 'Collier-Parker' 'Faulkner' 'Giles' 'Brennan' 'Wallace' 'Morley' 'Waters'\n",
      " 'Conway' 'Cooke' 'Mills' 'Wilkinson-Middleton' 'Smith-Cartwright'\n",
      " 'Read-Sharp' 'Dean' 'Holden' 'Nelson' 'Wade' 'Davidson-Harding' 'Rees'\n",
      " 'Hart' 'Todd-Patel' 'Houghton' 'Richards-Hayes' 'Henry' 'Ferguson'\n",
      " 'Chadwick' 'McLean' 'Poole' 'Skinner' 'Robertson' 'French-Brown' 'Allan'\n",
      " 'Watkins' 'Archer' 'Dale-Clark' 'Shepherd' 'Parkinson' 'Parsons'\n",
      " 'Gardner' 'Chan-Thompson' 'John' 'Sinclair' 'Morton' 'Lawrence' 'Mann'\n",
      " 'Hicks' 'Pickering' \"O'Brien\" 'Fraser' 'George' 'Read' 'Hargreaves'\n",
      " 'Porter' 'Dunn' 'Iqbal' 'Mistry' 'Mellor' 'Black' 'Charlton' 'Cartwright'\n",
      " 'Miah' 'Connolly' 'Noble' 'Barber' 'Kent' 'Doherty' 'Benson' 'Hartley'\n",
      " 'Blake' 'Bishop' 'Jennings' 'Lees' 'Jones-Willis' 'Humphreys'\n",
      " 'Walsh-Powell' 'Herbert-Walsh-Powell' 'Bryan' 'Stevenson' 'Coles'\n",
      " 'Macdonald' 'Nash' 'Bryant' 'Blackburn' 'Chambers' 'Schofield' 'Coates'\n",
      " 'Warner' 'Barlow' 'Barlow-Houghton' 'Ford-Wilson' 'Vaughan'\n",
      " 'Murphy-Booth' 'Fry-Harper' 'Woodward' 'Edwards-Joyce' 'Wheeler-Gilbert'\n",
      " 'Pope' 'Williams-Owen' 'Whitehouse' 'Bevan' 'Kerr' 'Edwards-Ward' 'Smart'\n",
      " 'Flynn-Hall' 'Frost' 'Walton' 'Lord' 'Haynes' 'Boyle' 'Fletcher'\n",
      " 'Nelson-Wright' 'Moore-Nelson-Wright' 'Willis' 'Sykes' 'Craig'\n",
      " 'Noble-Boyle' 'French' 'Smith-Hughes' 'Johnston' 'Moss-Hicks' 'Butcher'\n",
      " 'Flynn' 'Kent-Short' 'Phillips-Thompson' 'Hamilton' 'Hawkins' 'Abbott'\n",
      " 'Ross' 'King-Wall' 'Powell' 'Marsden' 'Davidson-Marsden'\n",
      " 'Parsons-Armstrong' 'Saunders-Walker' 'Kelly-Saunders-Walker' 'Banks'\n",
      " 'Owens' 'Sheppard' 'Morgan-Wilson' 'West-Taylor' 'Spencer' 'North'\n",
      " 'Jackson-Owens' 'Clements' 'Preston' 'Cartwright-Simpson' 'Hyde'\n",
      " 'Godfrey' 'Daly' 'Short' 'Williams-Wilson' 'Hilton' 'Connor' 'Lyons'\n",
      " 'Taylor-Walker' 'Turner-Barnes' 'Summers' 'Kirk' 'Hudson-Vincent' 'Gould'\n",
      " 'Foster-Stephenson' 'Stanley' 'Lee-Doherty' 'Turner-Pickering'\n",
      " 'Harris-Turner-Pickering' 'Smith-Gill' 'Hawkins-Smith' 'Bray'\n",
      " 'Bray-Jackson' 'Lambert' 'Duncan' 'Cook-Watson' 'Manning' \"O'Donnell\"\n",
      " 'Howell-Young' 'Rice' 'Baker-Mahmood' 'Oliver-Wright' 'Fuller' 'Reed'\n",
      " 'Kennedy' 'Knowles' 'Waters-Jones' 'King-Walker' 'Holmes-Francis'\n",
      " 'Lee-Holland' 'Moran' 'Winter' 'Norris' 'Henderson' 'Bartlett-Griffiths'\n",
      " 'Watson-Harrison' 'Turner-Pratt' 'Bull-Moore' 'Joyce' 'Joyce-Smith'\n",
      " 'Patterson-Arnold' 'Harris-Rowley' 'Williams-White' 'Wright-Bates'\n",
      " 'Howells' 'Bowen' 'Cox-Thomas' 'Ellis-Hunt' 'Ryan-Duncan'\n",
      " 'Williamson-Ryan-Duncan' 'Burke' 'Field' 'Holland-Shah' 'Jordan'\n",
      " 'Griffin-Holden' 'Reynolds-Evans' 'Daniels' 'Roberts-Daniels'\n",
      " 'Greenwood-Adams' 'Butler-Scott' 'White-Akhtar' 'Allen-Cunningham'\n",
      " 'Coleman-Turner' 'Thornton' 'Richardson-Williams' 'West-Blake'\n",
      " 'Humphreys-Jackson' 'Smith-Rice' 'Gray-Waters' 'Thomas-Gray-Waters'\n",
      " 'Davies-Thomas-Gray-Waters' 'Morris-Marshall' 'Johnson-Taylor'\n",
      " 'Edwards-Cooper' 'Wood-Lewis' 'Fleming-Hall' 'Harris-Jenkins'\n",
      " 'Phillips-Lynch' 'Lewis-Thompson' 'Williams-Brooks' 'Little-Wong'\n",
      " 'Baxter-Sheppard' 'Nash-Freeman' 'Pearson-Robson' 'Joyce-Atkinson'\n",
      " 'Bishop-Joyce-Atkinson' 'Davies-Wood' 'Bentley' 'Richards-Fox'\n",
      " 'Summers-Mahmood' 'Nash-Allen' 'Wright-Wong' 'Jackson-Fox' 'Holloway'\n",
      " 'Freeman-Burton' 'Nolan-Thompson' 'Warren-Bray' 'Thorpe-Pugh'\n",
      " 'Fleming-Kirby' 'Whitehead' \"O'Connor-Watts\" 'Morgan-Ellis'\n",
      " 'Bailey-Woodward' 'Sullivan-Davey' 'Clarke-Cole' 'Sullivan'\n",
      " 'Price-Griffiths' 'Law' 'Law-Webb' 'Goodwin' 'Moore-Murphy' 'Wade-Lynch'\n",
      " 'Bennett-Lee' 'Gibbons' 'Newton-Scott' 'Horton' 'Miles-Fletcher'\n",
      " 'Wilkinson-Miles-Fletcher' 'Marshall-Lowe' 'Hurst' 'Wilson-Wood' 'Finch'\n",
      " \"Waters-O'Connor\" 'Marshall-Hall' 'Owens-Whitehouse' 'Collier'\n",
      " 'Watts-Davies' 'Wood-Hussain' 'Moss-Wood-Hussain' 'Hargreaves-Edwards'\n",
      " 'Kaur-Griffin' 'Hall-Bailey' 'Jackson-Brown' 'Brooks-Dawson'\n",
      " 'Robertson-Brooks-Dawson' 'Nolan' 'Howell-Hughes' 'Gibbs-Powell'\n",
      " 'Bird-Burns' 'Higgins-Hawkins' 'Clarke-Haynes' 'Taylor-Lowe'\n",
      " 'Craig-Patterson' 'Grant-Khan' 'Stewart-Jones' 'Reynolds-Reynolds'\n",
      " 'Williams-Davies' 'Bowen-Stevens' 'Allen-Hughes' 'Pugh-Henry'\n",
      " 'Allen-Booth' 'Mann-Harris' 'Hughes-Hartley' 'Riley-Mitchell'\n",
      " 'Williams-Cox' 'Jones-Wilson' 'Thomas-Hodgson' 'Carpenter'\n",
      " 'Doyle-Parsons' 'Roberts-Mitchell' 'Walters-Daly' 'Harris-Ward'\n",
      " 'Evans-Lewis' 'Barker-Stewart' 'Talbot' 'Gough-McKenzie' 'Page-Rose'\n",
      " 'Armstrong-Rogers' 'Birch-Lewis' 'Bell-Whittaker']\n",
      "--------------------------------------------------\n",
      "Unique values in 'Age':\n",
      "['62' '5' '57' '47' '11' '8' '4' '49' '53' '26' '1' '31' '43' '61' '13'\n",
      " '52' '32' '36' '7' '80' '71' '39' '17' '76' '69' '34' '28' '27' '25' '24'\n",
      " '38' '14' '44' '48' '94' '95' '74' '2' '0' '55' '29' '68' '33' '30' '54'\n",
      " '22' '73' '70' '67' '59' '50' '9' '84' '85' '60' '42' '82' '18' '21' '41'\n",
      " '35' '12' '19' '20' '51' '56' '23' '16' '63' '10' '6' '72' '46' '65' '66'\n",
      " '75' '37' '3' '83' '78' '64' '45' '40' '15' '87.85207732' '58' '81' '86'\n",
      " '88' '89' '77' '87' '79' '96' '102' '126' '134' '92' '100' '98' 'Three'\n",
      " '90' '91' '57.62243892' '54.76785988' '52.76785988' '93' '101' '97' '99'\n",
      " '54.79911075' '59.79911075' '104' '105' '88.3316334']\n",
      "--------------------------------------------------\n",
      "Unique values in 'Relationship to Head of House':\n",
      "['Head' 'Granddaughter' 'Wife' 'Son' 'Daughter' 'Lodger' 'Husband'\n",
      " 'Step-Daughter' nan 'Partner' 'Sibling' 'Grandson' 'Neice' 'Adopted Son'\n",
      " 'Visitor' 'Cousin' 'Step-Son' 'Nephew' 'Adopted Daughter'\n",
      " 'Adopted Grandson' 'Adopted Granddaughter']\n",
      "--------------------------------------------------\n",
      "Unique values in 'Marital Status':\n",
      "['Divorced' nan 'Married' 'Single' 'Widowed' 'M' 'W' ' ' 'S' 'D']\n",
      "--------------------------------------------------\n",
      "Unique values in 'Gender':\n",
      "['Male' 'Female' 'F' 'M' 'f' 'male' 'm' 'female' ' ']\n",
      "--------------------------------------------------\n",
      "Unique values in 'Occupation':\n",
      "['Actuary' 'Student' 'Chief of Staff' ...\n",
      " 'Retired Engineer, technical sales' 'Retired Adult nurse'\n",
      " 'Retired Trade mark attorney']\n",
      "--------------------------------------------------\n",
      "Unique values in 'Infirmity':\n",
      "[nan ' ' 'Deaf' 'Disabled' 'Physical Disability' 'Mental Disability'\n",
      " 'Unknown Infection' 'Blind']\n",
      "--------------------------------------------------\n",
      "Unique values in 'Religion':\n",
      "['Catholic' nan 'Christian' 'Methodist' 'Sikh' 'Muslim' 'Jewish' ' '\n",
      " 'Baptist' 'Private' 'Buddist' 'Sith' 'Agnostic' 'Pagan' 'Jedi']\n",
      "--------------------------------------------------\n"
     ]
    }
   ],
   "source": [
    "# define a Function that loops through all columns with object or category dtype\n",
    "def get_unique_values(data):\n",
    "    for col in data.select_dtypes(include=['object', 'category', 'int64']).columns:\n",
    "        print(f\"Unique values in '{col}':\")\n",
    "        print(data[col].unique())\n",
    "        print(\"-\" * 50)\n",
    "        \n",
    "#calling the function and passing the argument \"Data\" to view unique values of each column\n",
    "get_unique_values(data) "
   ]
  },
  {
   "cell_type": "markdown",
   "metadata": {},
   "source": [
    "### Cleaning the columns in the dataset"
   ]
  },
  {
   "cell_type": "code",
   "execution_count": 6,
   "metadata": {
    "id": "iB-Zaa8MDl6n"
   },
   "outputs": [],
   "source": [
    "\n",
    "# Convert 'age' column to numeric, coercing errors to NaN and replace str to int\n",
    "data['Age'] = data['Age'].replace('Three', 3)\n",
    "data['Age'] = pd.to_numeric(data['Age'], errors='coerce').round().astype('int')\n",
    "\n",
    "# Convert 'House Number' column to numeric, coercing errors to NaN and replace str to int\n",
    "data['House Number'] = data['House Number'].replace('Nine', 9)\n",
    "data['House Number'] = pd.to_numeric(data['House Number'], errors='coerce')\n",
    "\n",
    "# Clean 'Relationship to Head of House' column \n",
    "data['Relationship to Head of House'] = data['Relationship to Head of House'].str.strip().str.title()\n",
    "data['Relationship to Head of House'] = data['Relationship to Head of House'].replace({\n",
    "    'Neice': 'Niece'\n",
    "})\n",
    "\n",
    "# Clean 'Marital Status' column by Standardizing Marital Status values by mapping various inputs to Divored, Married, Single and Widowed\n",
    "data['Marital Status'] = data['Marital Status'].replace({\n",
    "    'M': 'Married', 'W': 'Widowed', 'S': 'Single', 'D': 'Divorced', ' ': np.nan\n",
    "})\n",
    "data['Marital Status'] = data['Marital Status'].str.strip().str.title()\n",
    "\n",
    "# Clean 'Gender' column by Standardizing gender values by mapping various inputs to Male or Female\n",
    "data['Gender'] = data['Gender'].replace({\n",
    "    'F': 'Female', 'f': 'Female', 'M': 'Male', 'm': 'Male', 'female': 'Female', 'male': 'Male', ' ': np.nan\n",
    "})\n",
    "data['Gender'] = data['Gender'].str.strip().str.title()\n",
    "\n",
    "# Clean 'Occupation' column (basic cleanup - title case and strip)\n",
    "data['Occupation'] = data['Occupation'].astype(str).str.strip()\n",
    "\n",
    "# Clean 'Infirmity' column\n",
    "data['Infirmity'] = data['Infirmity'].replace({' ': np.nan})\n",
    "data['Infirmity'] = data['Infirmity'].str.strip().str.title()\n",
    "\n",
    "# Clean 'Religion' column\n",
    "data['Religion'] = data['Religion'].replace({' ': np.nan})\n",
    "data['Religion'] = data['Religion'].str.strip().str.title()\n",
    "data['Religion'] = data['Religion'].replace({\n",
    "    'Buddist': 'Buddhist',\n",
    "    'sith': 'Sikh',\n",
    "    'private': 'Unknown'\n",
    "})"
   ]
  },
  {
   "cell_type": "code",
   "execution_count": 7,
   "metadata": {},
   "outputs": [
    {
     "name": "stdout",
     "output_type": "stream",
     "text": [
      "['Catholic' nan 'Christian' 'Methodist' 'Sikh' 'Muslim' 'Jewish' 'Baptist'\n",
      " 'Private' 'Buddhist' 'Sith' 'Agnostic' 'Pagan' 'Jedi']\n"
     ]
    }
   ],
   "source": [
    "print(data['Religion'].unique())"
   ]
  },
  {
   "cell_type": "code",
   "execution_count": 8,
   "metadata": {},
   "outputs": [
    {
     "data": {
      "text/plain": [
       "House Number                      int64\n",
       "Street                           object\n",
       "First Name                       object\n",
       "Surname                          object\n",
       "Age                               int64\n",
       "Relationship to Head of House    object\n",
       "Marital Status                   object\n",
       "Gender                           object\n",
       "Occupation                       object\n",
       "Infirmity                        object\n",
       "Religion                         object\n",
       "dtype: object"
      ]
     },
     "execution_count": 8,
     "metadata": {},
     "output_type": "execute_result"
    }
   ],
   "source": [
    "data.dtypes #check datatypes for each column"
   ]
  },
  {
   "cell_type": "code",
   "execution_count": 9,
   "metadata": {
    "colab": {
     "base_uri": "https://localhost:8080/"
    },
    "id": "enrHda_wEjyN",
    "outputId": "dbfb7a9d-a771-472b-e6cb-fdf13b2b870d"
   },
   "outputs": [
    {
     "name": "stdout",
     "output_type": "stream",
     "text": [
      "Unique values in 'House Number':\n",
      "[  1   2   3   4   5   6   7   8   9  10  11  12  13  14  15  16  17  18\n",
      "  19  20  21  22  23  24  25  26  27  28  29  30  31  32  33  34  35  36\n",
      "  37  38  39  40  41  42  43  44  45  46  47  48  49  50  51  52  53  54\n",
      "  55  56  57  58  59  60  61  62  63  64  65  66  67  68  69  70  71  72\n",
      "  73  74  75  76  77  78  79  80  81  82  83  84  85  86  87  88  89  90\n",
      "  91  92  93  94  95  96  97  98  99 100 101 102 103 104 105 106 107 108\n",
      " 109 110 111 112 113 114 115 116 117 118 119 120 121 122 123 124 125 126\n",
      " 127 128 129 130 131 132 133 134 135 136 137 138 139 140 141 142 143 144\n",
      " 145 146 147 148 149 150 151 152 153 154 155 156 157 158 159 160 161 162\n",
      " 163 164 165 166 167 168 169 170 171 172 173 174 175 176 177 178 179 180\n",
      " 181 182 183 184 185 186 187 188 189 190 191 192 193 194 195 196 197 198\n",
      " 199 200 201 202 203 204 205 206 207 208 209 210 211 212 213 214 215 216\n",
      " 217 218 219 220 221 222 223 224 225 226 227 228 229 230]\n",
      "--------------------------------------------------\n",
      "Unique values in 'Street':\n",
      "['Harris Wall' 'Wade Drive' 'Northumberland Stream' 'Preston Avenue'\n",
      " 'Mills Street' 'St.Luke Wall' 'Estuary Trace' 'Thames Lodge'\n",
      " 'Dawson Greens' 'Mahogany Drive' 'Norman Passage' 'Elizabeth Street'\n",
      " 'Davis Squares' 'Racoon Avenue' 'Lincolnbag Road' 'Lobster Lane'\n",
      " 'Elizabeth Islands' 'Chemist Inlet' 'Cambridge Avenue' 'Lunar Falls'\n",
      " 'Bennett Pine' 'Barrett Vista' 'Chelmsford Lodge' 'Southampton Track'\n",
      " 'Thomas Road' 'Station Parkway' 'Powell Islands' 'Canary Drive'\n",
      " 'Owens Pike' 'Rees Brook' 'Skylock Stream' 'Liverpool Greens'\n",
      " 'Pigeon Lane' 'Parkinson Street' 'Turner Loop' 'Bradford Avenue'\n",
      " 'Burton Keys' 'Dockers Drive' 'Earltap Drive' 'Cole Plains' 'Walsh Road'\n",
      " 'Lewis Heights' 'Storm Landing' 'Cinnamon Lane' 'Walsh Freeway'\n",
      " 'Tulip Drive' 'Pearson Spring' 'Bletchley Avenue' 'Tiger Street'\n",
      " 'Lincoln Passage' 'Freeman Street' 'Lisbon Lane' 'Bailey Islands'\n",
      " 'Griffin Street' 'Long Drive' 'Whitehall Drive' 'Narwhal Ports'\n",
      " 'Lisbonbail Drive' 'Waywardmix Drive' 'Trent Drive' 'Guinevere Oval'\n",
      " 'Grant Trail' 'September Street' 'Kaur Avenue' 'Lionpath Avenue'\n",
      " 'Kelly Branch' 'Smith Stream' 'Wright Spurs' 'Albanscurl Lane'\n",
      " 'Gloriousskip Street' 'Wood Lane' 'Thompson Ways' 'Bastille Avenue'\n",
      " 'Sandy Lane' 'Carlisle Avenue' 'Waterloohawk Road' 'Shaw Pass'\n",
      " 'Holt Bridge' 'Matthews Greens' 'Daffodil Avenue' 'Conifer Avenue'\n",
      " 'Bates Vista' 'Knight Road' 'Wilson Drive' 'Bradley Parks'\n",
      " 'Durham Avenue' 'Jones Meadows' 'Beaver Plains' 'Hazel Road'\n",
      " 'Salamanderweave Street' 'Fish Delve' 'Kraken Ranch' 'Statue Chalet'\n",
      " 'Ranger Abbey' 'Sandy Farm' 'Morar Tower' 'Butterfly Cottage'\n",
      " 'Spencer Stronghold' 'Doherty Fort' 'Bangor Institute' 'White Hold'\n",
      " 'Preston Inn' 'Walker Commune' 'Slater Stables' 'Kestrel Haven']\n",
      "--------------------------------------------------\n",
      "Unique values in 'First Name':\n",
      "['Samuel' 'Anne' 'Shaun' 'Kim' 'Sylvia' 'Antony' 'Linda' 'Stuart' 'Sian'\n",
      " 'Naomi' 'Mark' 'Charlene' 'Amber' 'Lisa' 'Colin' 'Clare' 'Lucy' 'Dylan'\n",
      " 'Harriet' 'Lawrence' 'Glenn' 'Melissa' 'Vanessa' 'Carly' 'Margaret'\n",
      " 'Suzanne' 'Dominic' 'Beverley' 'Ellie' 'Raymond' 'Kate' 'Rita' 'Sophie'\n",
      " 'Tom' 'Irene' 'Dorothy' 'Sharon' 'Rhys' 'Graeme' 'Jacqueline' 'Anthony'\n",
      " 'Hazel' 'Kirsty' 'Joel' 'Natalie' 'Brandon' 'Marie' 'Daniel' 'Lynda'\n",
      " 'Jack' 'Rachel' 'Duncan' 'Joe' 'Hollie' 'Teresa' 'Ashleigh' 'Donna'\n",
      " 'William' 'Catherine' 'Tony' 'Norman' 'Vincent' 'Hayley' 'Neil' 'Matthew'\n",
      " 'Annette' 'Mohamed' 'Zoe' 'Dean' 'Leon' 'Frances' 'Gordon' 'Wendy'\n",
      " 'Jayne' 'Glen' 'Clifford' 'Richard' 'Jane' 'Heather' 'Mohammad' 'Katie'\n",
      " 'Kathryn' 'Francesca' 'Chloe' 'Arthur' 'Yvonne' 'Gerard' 'Jordan' 'Lee'\n",
      " 'Sandra' 'Alison' 'Simon' 'Eileen' 'Paul' 'Ricky' 'Hilary' 'Benjamin'\n",
      " 'Amelia' 'Lewis' 'Joseph' 'Dawn' 'Robin' 'Caroline' 'Maurice' 'Cheryl'\n",
      " 'Malcolm' 'Guy' 'Leigh' 'Jeffrey' 'Leanne' 'Paula' 'Robert' 'Alexandra'\n",
      " 'Gary' 'Gemma' 'Bernard' 'Abigail' 'Ryan' 'Joan' 'Leonard' 'Aimee'\n",
      " 'Bryan' 'Jasmine' 'Sean' 'Denise' 'Hugh' 'Leslie' 'Emily' 'Rebecca'\n",
      " 'Abdul' 'Howard' 'June' 'Nigel' 'Barry' 'Amanda' 'Wayne' 'Rachael'\n",
      " 'Albert' 'Kimberley' 'Gavin' 'Mathew' 'Ruth' 'Olivia' 'Karl' 'Brian'\n",
      " 'Megan' 'Martyn' 'Andrew' 'Terence' 'Scott' 'Andrea' 'Lauren' 'Ian'\n",
      " 'Judith' 'Anna' 'Gillian' 'Jay' 'Nicola' 'Sam' 'Jessica' 'Jake'\n",
      " 'Kathleen' 'Alexander' 'Louis' 'Adrian' 'Russell' 'Angela' 'Adam'\n",
      " 'Douglas' 'Chelsea' 'John' 'Diana' 'Christine' 'Maureen' 'Jeremy'\n",
      " 'Georgina' 'Thomas' 'Carl' 'Sally' 'Kayleigh' 'Danny' 'Joshua' 'Elliott'\n",
      " 'Toby' 'Liam' 'Ann' 'Tina' 'Shirley' 'Bradley' 'Geoffrey' 'Hannah'\n",
      " 'Jodie' 'Danielle' 'Pauline' 'Katy' 'Harry' 'Georgia' 'Marc' 'Alice'\n",
      " 'Michael' 'Maria' 'Philip' 'Lindsey' 'Pamela' 'Kieran' 'Emma' 'Justin'\n",
      " 'Aaron' 'Gail' 'Connor' 'Lorraine' 'Phillip' 'Timothy' 'Holly' 'Damien'\n",
      " 'Rosie' 'Gareth' 'Joanne' 'Kerry' 'Deborah' 'Ashley' 'Valerie' 'Jemma'\n",
      " 'Victoria' 'Charlotte' 'Leah' 'Henry' 'Jill' 'Donald' 'Charles' 'Bethany'\n",
      " 'George' 'Shannon' 'Elliot' 'Elaine' 'Samantha' 'Cameron' 'Roy' 'Molly'\n",
      " 'Damian' 'Owen' 'Brett' 'Edward' 'Frank' 'Patrick' 'Alex' 'Mitchell'\n",
      " 'Karen' 'Christopher' 'Kevin' 'Lydia' 'Grace' 'Gregory' 'Tracy' 'Bethan'\n",
      " 'Mary' 'Callum' 'Stephen' 'Bruce' 'Stephanie' 'Geraldine' 'Peter'\n",
      " 'Natasha' 'Ross' 'Nicole' 'Helen' 'Martin' 'Stanley' 'Ronald' 'Ben'\n",
      " 'Jennifer' 'Gerald' 'Oliver' 'Carol' 'Shane' 'Marian' 'Louise'\n",
      " 'Josephine' 'Dennis' 'Conor' 'Marion' 'Lesley' 'Josh' 'Kelly' 'Francis'\n",
      " 'Stewart' 'Carole' 'Clive' 'Craig' 'Garry' 'Alan' 'David' 'Marilyn'\n",
      " 'Roger' 'Stacey' 'Iain' 'Reece' 'Mohammed' 'Jade' 'Jonathan' 'Allan'\n",
      " 'Rosemary' 'Graham' 'Victor' 'Jenna' 'Jason' 'Melanie' 'Diane' 'Jean'\n",
      " 'Beth' 'Julie' 'Joyce' 'Barbara' 'Declan' 'Julia' 'Sara' 'Debra'\n",
      " 'Elizabeth' 'Kenneth' 'Nathan' 'Tracey' 'Terry' 'Eric' 'Derek' 'Keith'\n",
      " 'Steven' 'Eleanor' 'Trevor' 'Julian' 'Denis' 'Joanna' 'Sheila' 'Max'\n",
      " 'Abbie' 'Claire' 'Luke' 'Charlie' 'Janet' 'Lynn' 'Sarah' 'Amy' 'Laura'\n",
      " 'Michelle' 'Marcus' 'Nicholas' 'Frederick' 'Susan' 'Carolyn' 'Darren'\n",
      " 'Lynne' 'Fiona' 'Kyle' 'Brenda' 'Jamie' 'Jacob' 'Christian' 'Janice'\n",
      " 'Patricia' 'Katherine' 'Paige' 'Dale' 'Mandy' 'Billy' 'James'\n",
      " 'Katy Marie']\n",
      "--------------------------------------------------\n",
      "Unique values in 'Surname':\n",
      "['Thompson' 'Simpson' 'Harper' 'Naylor' 'James' 'Buckley' 'Knight'\n",
      " 'Graham' 'Davis' 'Moore' 'Ford' 'Murphy' 'Gregory' 'Bennett' 'Carter'\n",
      " 'Forster' 'Grant' 'Heath' 'Smith' 'Howard' 'Atkinson' 'Hayward' 'Scott'\n",
      " 'Howell' 'Dennis' 'Singh' 'Baxter' 'Davies' 'Barnett' 'Sanders' 'Gill'\n",
      " 'White' 'Andrews' 'Walker' 'Walters' 'Page' 'Hall' 'Bolton' 'Jones'\n",
      " 'Skinner-Jones' 'Williams' 'Cunningham' 'Potter' 'Thomas' 'Turner' 'Sims'\n",
      " 'McCarthy' 'Dyer' 'Dixon' 'Harding' 'Holland' 'Mason' 'Gardiner' 'Patel'\n",
      " 'Hussain' 'Wright' 'Metcalfe' 'Saunders' 'Ali' 'Hunt' 'Pearson' 'Cook'\n",
      " 'Pratt' 'Chan' 'Young' 'Roberts' 'Woods' 'Carr' 'Walsh' 'Hughes'\n",
      " 'Stephenson' 'Newton' 'Armstrong' 'Richardson' 'Collins' 'Taylor'\n",
      " 'Mitchell' 'Barry' 'Foster' 'Bailey' 'Dobson' 'King' 'Bell' 'Donnelly'\n",
      " 'Tucker' 'Evans' 'Lee' 'Johnson' 'Wilson' 'Miller' 'Watts' 'Chapman'\n",
      " 'Robson' 'Davison' 'Marsh' 'Dickinson' 'Cole' 'Price' 'Stone' 'Bibi'\n",
      " 'Todd' 'Burrows' 'Clark' 'Jenkins' 'Morris' 'Jackson' 'Moss' 'Whittaker'\n",
      " 'Nicholson' 'Power' 'Richards' 'Wood' 'Hale' 'Carey' 'Pugh' 'Higgins'\n",
      " 'Day' 'Norman' 'Rowley' 'Phillips' 'Lowe' 'Adams' 'Fox' 'Atkins' 'Morgan'\n",
      " 'Oliver' 'Ellis' 'Cox' 'Hardy' 'Brown' 'Perry' 'Chandler' 'Harvey'\n",
      " 'Humphries' 'Ryan' 'Ward' 'Stokes' 'Gibbs' 'Sutton' 'Savage' 'Harris'\n",
      " 'Robinson' 'Butler' 'Allen' 'Sharp' 'Edwards' 'Dawson' 'Watson'\n",
      " 'Patterson' 'Clayton' 'Wheeler' 'Goddard' 'Green' 'Brooks' 'Slater'\n",
      " 'Parker' 'Begum' 'Burton' 'Nixon' 'Pollard' 'Arnold' 'Hanson-Smith'\n",
      " 'Thorpe' 'Clarke' 'Cross' 'Matthews' 'Sanderson' 'Murray-Thompson'\n",
      " 'Harrison' 'Norton' 'Holt' 'Rose' 'Hunter' 'Kaur' 'Tomlinson' 'Rhodes'\n",
      " 'Bird' 'Byrne' 'Owen' 'Crawford' 'Hancock' 'Berry' \"O'Sullivan\"\n",
      " 'Townsend' 'Barker' 'Martin' 'Vincent' 'Lee-Vincent' 'Wilkins' 'Yates'\n",
      " 'Bates' 'Griffiths' 'Douglas' 'Brady' 'Baldwin' 'Barnes' 'Akhtar'\n",
      " 'Francis' 'Lucas' 'Dodd' 'Weston' 'Gilbert' 'Farrell' 'Peters' 'Parkin'\n",
      " 'Austin' 'Hudson' 'Holmes' 'Bradshaw' 'Morrison-Oliver' 'Stewart' 'Wong'\n",
      " 'Webb' 'McDonald' 'Parry' 'Marshall' 'Hill' 'Doyle' 'Turnbull' 'Lewis'\n",
      " 'Lloyd' 'Chamberlain' 'Booth' 'Davey' 'Shaw' 'Webb-Shaw' 'Warren' 'Miles'\n",
      " 'Webster' 'Owen-Martin' 'Freeman' 'Ingram' 'Steele' 'Myers' 'Glover'\n",
      " 'Gallagher' 'Campbell' \"O'Connor\" 'Hodgson' 'Fitzgerald' 'Thomson'\n",
      " 'Williams-Garner' 'Ashton' 'Reeves' 'Hopkins' 'Howe' 'Burgess' 'Khan'\n",
      " 'Reid' 'Gough' 'Duffy' 'Fowler' 'Welch' 'Rogers' 'West' 'Jarvis' 'Hayes'\n",
      " 'Price-Mason' 'Pearce' 'Ahmed' 'Barrett' 'Cooper' 'Potts' 'Hewitt'\n",
      " 'Pritchard' 'Farmer' 'Bruce' 'Russell' 'Davidson' 'Shah' 'Leonard'\n",
      " 'Lloyd-Leonard' 'Parkes' 'Tyler' 'Gibson' 'Carroll' 'Kemp' 'Rowe'\n",
      " 'Williamson' 'Browne' 'Perkins' 'Wyatt' 'Payne' 'Hobbs' 'Stevens'\n",
      " 'Lawson' 'Middleton' 'Ellis-Glover' 'Gordon' 'Reynolds' 'Griffin'\n",
      " 'Fisher' 'Randall' 'Walker-Harris' 'Baker' 'Wells' 'Wall' 'Anderson'\n",
      " 'Little' 'Palmer' 'Alexander' 'Thompson-Turner' 'Long' 'Ball'\n",
      " 'Campbell-Hill' 'Riley' 'Russell-Carter' 'Greenwood' 'Peacock'\n",
      " 'Richards-Palmer' 'Duffy-Newton' 'Simmons' 'Swift' 'Quinn' 'Hutchinson'\n",
      " 'Storey' 'Burns' 'Birch' 'Curtis' 'Wilkinson' 'Franklin' 'Newman'\n",
      " 'Herbert' 'Burton-Hancock' 'Kay' 'Elliott' 'Osborne' 'Dale' 'Rahman'\n",
      " 'Lamb' 'Mahmood' 'May' 'Sharpe' 'Bartlett' 'Bull' 'Kelly' 'Coleman'\n",
      " 'Noble-Pearce' 'Murray' 'Bond' 'Payne-Austin' 'Lewis-Baker'\n",
      " 'Reynolds-Burton' 'Stephens' 'Kirby' 'Morrison-Marshall' 'Briggs'\n",
      " 'Barton' 'Lynch' 'Lane' 'Smith-Williams' 'Bradley' 'Morrison' 'Hope'\n",
      " 'Hammond' \"O'Neill\" 'Gray' 'Cameron' 'Turner-Cooper' 'Davies-Harris'\n",
      " 'McKenzie' 'Brookes' 'Smith-Jackson' 'Hooper' 'Nicholls' 'Thompson-Perry'\n",
      " 'Collier-Parker' 'Faulkner' 'Giles' 'Brennan' 'Wallace' 'Morley' 'Waters'\n",
      " 'Conway' 'Cooke' 'Mills' 'Wilkinson-Middleton' 'Smith-Cartwright'\n",
      " 'Read-Sharp' 'Dean' 'Holden' 'Nelson' 'Wade' 'Davidson-Harding' 'Rees'\n",
      " 'Hart' 'Todd-Patel' 'Houghton' 'Richards-Hayes' 'Henry' 'Ferguson'\n",
      " 'Chadwick' 'McLean' 'Poole' 'Skinner' 'Robertson' 'French-Brown' 'Allan'\n",
      " 'Watkins' 'Archer' 'Dale-Clark' 'Shepherd' 'Parkinson' 'Parsons'\n",
      " 'Gardner' 'Chan-Thompson' 'John' 'Sinclair' 'Morton' 'Lawrence' 'Mann'\n",
      " 'Hicks' 'Pickering' \"O'Brien\" 'Fraser' 'George' 'Read' 'Hargreaves'\n",
      " 'Porter' 'Dunn' 'Iqbal' 'Mistry' 'Mellor' 'Black' 'Charlton' 'Cartwright'\n",
      " 'Miah' 'Connolly' 'Noble' 'Barber' 'Kent' 'Doherty' 'Benson' 'Hartley'\n",
      " 'Blake' 'Bishop' 'Jennings' 'Lees' 'Jones-Willis' 'Humphreys'\n",
      " 'Walsh-Powell' 'Herbert-Walsh-Powell' 'Bryan' 'Stevenson' 'Coles'\n",
      " 'Macdonald' 'Nash' 'Bryant' 'Blackburn' 'Chambers' 'Schofield' 'Coates'\n",
      " 'Warner' 'Barlow' 'Barlow-Houghton' 'Ford-Wilson' 'Vaughan'\n",
      " 'Murphy-Booth' 'Fry-Harper' 'Woodward' 'Edwards-Joyce' 'Wheeler-Gilbert'\n",
      " 'Pope' 'Williams-Owen' 'Whitehouse' 'Bevan' 'Kerr' 'Edwards-Ward' 'Smart'\n",
      " 'Flynn-Hall' 'Frost' 'Walton' 'Lord' 'Haynes' 'Boyle' 'Fletcher'\n",
      " 'Nelson-Wright' 'Moore-Nelson-Wright' 'Willis' 'Sykes' 'Craig'\n",
      " 'Noble-Boyle' 'French' 'Smith-Hughes' 'Johnston' 'Moss-Hicks' 'Butcher'\n",
      " 'Flynn' 'Kent-Short' 'Phillips-Thompson' 'Hamilton' 'Hawkins' 'Abbott'\n",
      " 'Ross' 'King-Wall' 'Powell' 'Marsden' 'Davidson-Marsden'\n",
      " 'Parsons-Armstrong' 'Saunders-Walker' 'Kelly-Saunders-Walker' 'Banks'\n",
      " 'Owens' 'Sheppard' 'Morgan-Wilson' 'West-Taylor' 'Spencer' 'North'\n",
      " 'Jackson-Owens' 'Clements' 'Preston' 'Cartwright-Simpson' 'Hyde'\n",
      " 'Godfrey' 'Daly' 'Short' 'Williams-Wilson' 'Hilton' 'Connor' 'Lyons'\n",
      " 'Taylor-Walker' 'Turner-Barnes' 'Summers' 'Kirk' 'Hudson-Vincent' 'Gould'\n",
      " 'Foster-Stephenson' 'Stanley' 'Lee-Doherty' 'Turner-Pickering'\n",
      " 'Harris-Turner-Pickering' 'Smith-Gill' 'Hawkins-Smith' 'Bray'\n",
      " 'Bray-Jackson' 'Lambert' 'Duncan' 'Cook-Watson' 'Manning' \"O'Donnell\"\n",
      " 'Howell-Young' 'Rice' 'Baker-Mahmood' 'Oliver-Wright' 'Fuller' 'Reed'\n",
      " 'Kennedy' 'Knowles' 'Waters-Jones' 'King-Walker' 'Holmes-Francis'\n",
      " 'Lee-Holland' 'Moran' 'Winter' 'Norris' 'Henderson' 'Bartlett-Griffiths'\n",
      " 'Watson-Harrison' 'Turner-Pratt' 'Bull-Moore' 'Joyce' 'Joyce-Smith'\n",
      " 'Patterson-Arnold' 'Harris-Rowley' 'Williams-White' 'Wright-Bates'\n",
      " 'Howells' 'Bowen' 'Cox-Thomas' 'Ellis-Hunt' 'Ryan-Duncan'\n",
      " 'Williamson-Ryan-Duncan' 'Burke' 'Field' 'Holland-Shah' 'Jordan'\n",
      " 'Griffin-Holden' 'Reynolds-Evans' 'Daniels' 'Roberts-Daniels'\n",
      " 'Greenwood-Adams' 'Butler-Scott' 'White-Akhtar' 'Allen-Cunningham'\n",
      " 'Coleman-Turner' 'Thornton' 'Richardson-Williams' 'West-Blake'\n",
      " 'Humphreys-Jackson' 'Smith-Rice' 'Gray-Waters' 'Thomas-Gray-Waters'\n",
      " 'Davies-Thomas-Gray-Waters' 'Morris-Marshall' 'Johnson-Taylor'\n",
      " 'Edwards-Cooper' 'Wood-Lewis' 'Fleming-Hall' 'Harris-Jenkins'\n",
      " 'Phillips-Lynch' 'Lewis-Thompson' 'Williams-Brooks' 'Little-Wong'\n",
      " 'Baxter-Sheppard' 'Nash-Freeman' 'Pearson-Robson' 'Joyce-Atkinson'\n",
      " 'Bishop-Joyce-Atkinson' 'Davies-Wood' 'Bentley' 'Richards-Fox'\n",
      " 'Summers-Mahmood' 'Nash-Allen' 'Wright-Wong' 'Jackson-Fox' 'Holloway'\n",
      " 'Freeman-Burton' 'Nolan-Thompson' 'Warren-Bray' 'Thorpe-Pugh'\n",
      " 'Fleming-Kirby' 'Whitehead' \"O'Connor-Watts\" 'Morgan-Ellis'\n",
      " 'Bailey-Woodward' 'Sullivan-Davey' 'Clarke-Cole' 'Sullivan'\n",
      " 'Price-Griffiths' 'Law' 'Law-Webb' 'Goodwin' 'Moore-Murphy' 'Wade-Lynch'\n",
      " 'Bennett-Lee' 'Gibbons' 'Newton-Scott' 'Horton' 'Miles-Fletcher'\n",
      " 'Wilkinson-Miles-Fletcher' 'Marshall-Lowe' 'Hurst' 'Wilson-Wood' 'Finch'\n",
      " \"Waters-O'Connor\" 'Marshall-Hall' 'Owens-Whitehouse' 'Collier'\n",
      " 'Watts-Davies' 'Wood-Hussain' 'Moss-Wood-Hussain' 'Hargreaves-Edwards'\n",
      " 'Kaur-Griffin' 'Hall-Bailey' 'Jackson-Brown' 'Brooks-Dawson'\n",
      " 'Robertson-Brooks-Dawson' 'Nolan' 'Howell-Hughes' 'Gibbs-Powell'\n",
      " 'Bird-Burns' 'Higgins-Hawkins' 'Clarke-Haynes' 'Taylor-Lowe'\n",
      " 'Craig-Patterson' 'Grant-Khan' 'Stewart-Jones' 'Reynolds-Reynolds'\n",
      " 'Williams-Davies' 'Bowen-Stevens' 'Allen-Hughes' 'Pugh-Henry'\n",
      " 'Allen-Booth' 'Mann-Harris' 'Hughes-Hartley' 'Riley-Mitchell'\n",
      " 'Williams-Cox' 'Jones-Wilson' 'Thomas-Hodgson' 'Carpenter'\n",
      " 'Doyle-Parsons' 'Roberts-Mitchell' 'Walters-Daly' 'Harris-Ward'\n",
      " 'Evans-Lewis' 'Barker-Stewart' 'Talbot' 'Gough-McKenzie' 'Page-Rose'\n",
      " 'Armstrong-Rogers' 'Birch-Lewis' 'Bell-Whittaker']\n",
      "--------------------------------------------------\n",
      "Unique values in 'Age':\n",
      "[ 62   5  57  47  11   8   4  49  53  26   1  31  43  61  13  52  32  36\n",
      "   7  80  71  39  17  76  69  34  28  27  25  24  38  14  44  48  94  95\n",
      "  74   2   0  55  29  68  33  30  54  22  73  70  67  59  50   9  84  85\n",
      "  60  42  82  18  21  41  35  12  19  20  51  56  23  16  63  10   6  72\n",
      "  46  65  66  75  37   3  83  78  64  45  40  15  88  58  81  86  89  77\n",
      "  87  79  96 102 126 134  92 100  98  90  91  93 101  97  99 104 105]\n",
      "--------------------------------------------------\n",
      "Unique values in 'Relationship to Head of House':\n",
      "['Head' 'Granddaughter' 'Wife' 'Son' 'Daughter' 'Lodger' 'Husband'\n",
      " 'Step-Daughter' nan 'Partner' 'Sibling' 'Grandson' 'Niece' 'Adopted Son'\n",
      " 'Visitor' 'Cousin' 'Step-Son' 'Nephew' 'Adopted Daughter'\n",
      " 'Adopted Grandson' 'Adopted Granddaughter']\n",
      "--------------------------------------------------\n",
      "Unique values in 'Marital Status':\n",
      "['Divorced' nan 'Married' 'Single' 'Widowed']\n",
      "--------------------------------------------------\n",
      "Unique values in 'Gender':\n",
      "['Male' 'Female' nan]\n",
      "--------------------------------------------------\n",
      "Unique values in 'Occupation':\n",
      "['Actuary' 'Student' 'Chief of Staff' ...\n",
      " 'Retired Engineer, technical sales' 'Retired Adult nurse'\n",
      " 'Retired Trade mark attorney']\n",
      "--------------------------------------------------\n",
      "Unique values in 'Infirmity':\n",
      "[nan 'Deaf' 'Disabled' 'Physical Disability' 'Mental Disability'\n",
      " 'Unknown Infection' 'Blind']\n",
      "--------------------------------------------------\n",
      "Unique values in 'Religion':\n",
      "['Catholic' nan 'Christian' 'Methodist' 'Sikh' 'Muslim' 'Jewish' 'Baptist'\n",
      " 'Private' 'Buddhist' 'Sith' 'Agnostic' 'Pagan' 'Jedi']\n",
      "--------------------------------------------------\n"
     ]
    }
   ],
   "source": [
    "#view the unique values for each column\n",
    "get_unique_values(data)"
   ]
  },
  {
   "cell_type": "code",
   "execution_count": 10,
   "metadata": {
    "colab": {
     "base_uri": "https://localhost:8080/",
     "height": 429
    },
    "id": "x0-m1sNBEojF",
    "outputId": "b18d686a-251a-4827-db61-48f61090bf4a"
   },
   "outputs": [
    {
     "data": {
      "text/plain": [
       "House Number                         0\n",
       "Street                               0\n",
       "First Name                           0\n",
       "Surname                              0\n",
       "Age                                  0\n",
       "Relationship to Head of House      760\n",
       "Marital Status                    2502\n",
       "Gender                               1\n",
       "Occupation                           0\n",
       "Infirmity                        10522\n",
       "Religion                          6163\n",
       "dtype: int64"
      ]
     },
     "execution_count": 10,
     "metadata": {},
     "output_type": "execute_result"
    }
   ],
   "source": [
    "data.isnull().sum() #check for the count of missing value(NaN) per column in the dataset"
   ]
  },
  {
   "cell_type": "markdown",
   "metadata": {},
   "source": [
    "## Gender"
   ]
  },
  {
   "cell_type": "code",
   "execution_count": 11,
   "metadata": {
    "id": "pplJiGwHJzBr"
   },
   "outputs": [],
   "source": [
    "#Fill Gender missing values based on Relationship to Head of House\n",
    "def gender(row):\n",
    "    if pd.isna(row['Gender']):\n",
    "        male_roles = ['Son', 'Grandson', 'Husband', 'Step-Son', 'Nephew', 'Adopted Son', 'Adopted Grandson']\n",
    "        female_roles = ['Daughter', 'Granddaughter', 'Wife', 'Step-Daughter', 'Niece', 'Adopted Daughter', 'Adopted Granddaughter']\n",
    "        rel = row['Relationship to Head of House']\n",
    "        if rel in male_roles:\n",
    "            return 'Male'\n",
    "        elif rel in female_roles:\n",
    "            return 'Female'\n",
    "    return row['Gender']\n",
    "\n",
    "data['Gender'] = data.apply(gender, axis=1)"
   ]
  },
  {
   "cell_type": "markdown",
   "metadata": {},
   "source": [
    "### Marital Status"
   ]
  },
  {
   "cell_type": "code",
   "execution_count": 12,
   "metadata": {
    "id": "5vOxPdjJJ3wm"
   },
   "outputs": [],
   "source": [
    "#define mode of marital status for those older than 70\n",
    "mode_70_plus = data.loc[data['Age'] > 70, 'Marital Status'].mode()[0]\n",
    "\n",
    "#Fill Marital Status missing values logically based on Age, Relationship to Head of House\n",
    "def marital_status(row):\n",
    "    if pd.isna(row['Marital Status']):\n",
    "        age = row['Age']\n",
    "        rel = row['Relationship to Head of House']\n",
    "        if age < 18:\n",
    "            return 'Single'\n",
    "        elif rel in ['Wife', 'Husband']:\n",
    "            return 'Married'\n",
    "        elif age > 70:\n",
    "            return mode_70_plus\n",
    "        else:\n",
    "            return 'unknown'\n",
    "    return row['Marital Status']\n",
    "\n",
    "data['Marital Status'] = data.apply(marital_status, axis=1)"
   ]
  },
  {
   "cell_type": "markdown",
   "metadata": {},
   "source": [
    "## Religion"
   ]
  },
  {
   "cell_type": "code",
   "execution_count": 13,
   "metadata": {
    "id": "ddI8eZKkKHPX"
   },
   "outputs": [],
   "source": [
    "# Fill missing or inconsistent religion values by assigning the most common religion per household\n",
    "data['Religion'] = data.groupby(['House Number', 'Street', 'Surname'])['Religion'].transform(lambda x: x.mode().iloc[0] if not x.mode().empty else 'Unknown')"
   ]
  },
  {
   "cell_type": "markdown",
   "metadata": {},
   "source": [
    "## Infirmity"
   ]
  },
  {
   "cell_type": "code",
   "execution_count": 14,
   "metadata": {
    "id": "OugIv1VxKuPL"
   },
   "outputs": [],
   "source": [
    "# Fill Infirmity missing values with 'None' to indicate that the individual has no reported infirmity\n",
    "data['Infirmity'] = data['Infirmity'].fillna('None')"
   ]
  },
  {
   "cell_type": "markdown",
   "metadata": {},
   "source": [
    "## Relationship to Head of House"
   ]
  },
  {
   "cell_type": "code",
   "execution_count": 15,
   "metadata": {
    "id": "vTMKg6LGhgGO",
    "scrolled": true
   },
   "outputs": [],
   "source": [
    "# to identifier an household\n",
    "data['household_id'] = data['House Number'].astype(str) + '_' + data['Street'].astype(str)\n",
    "\n",
    "# Define imputation logic based on MArital status, age, Relationship to Head of House\n",
    "def relationship(group):\n",
    "    head = group[group['Relationship to Head of House'] == 'Head']\n",
    "    head_surname = head['Surname'].iloc[0] if not head.empty else None\n",
    "\n",
    "    for idx in group[group['Relationship to Head of House'].isna()].index:\n",
    "        gender = group.at[idx, 'Gender']\n",
    "        age = group.at[idx, 'Age']\n",
    "        marital = group.at[idx, 'Marital Status']\n",
    "        surname = group.at[idx, 'Surname']\n",
    "\n",
    "        # Rule 1: Married people\n",
    "        if marital == 'Married':\n",
    "            if gender == 'Female':\n",
    "                group.at[idx, 'Relationship to Head of House'] = 'Wife'\n",
    "            elif gender == 'Male':\n",
    "                group.at[idx, 'Relationship to Head of House'] = 'Husband'\n",
    "        # Rule 2: Children\n",
    "        elif age < 18:\n",
    "            if gender == 'Female':\n",
    "                group.at[idx, 'Relationship to Head of House'] = 'Daughter'\n",
    "            elif gender == 'Male':\n",
    "                group.at[idx, 'Relationship to Head of House'] = 'Son'\n",
    "        # Rule 3: Everyone else\n",
    "        else:\n",
    "            group.at[idx, 'Relationship to Head of House'] = 'Lodger'\n",
    "\n",
    "    return group\n",
    "\n",
    "# Apply imputation\n",
    "data = data.groupby('household_id', group_keys=False).apply(relationship)\n"
   ]
  },
  {
   "cell_type": "code",
   "execution_count": 16,
   "metadata": {
    "colab": {
     "base_uri": "https://localhost:8080/",
     "height": 460
    },
    "id": "pvUzzQ9oKfnX",
    "outputId": "844e4d8c-89fd-4fcc-88ce-613421baeed7",
    "scrolled": true
   },
   "outputs": [
    {
     "data": {
      "text/plain": [
       "House Number                     0\n",
       "Street                           0\n",
       "First Name                       0\n",
       "Surname                          0\n",
       "Age                              0\n",
       "Relationship to Head of House    0\n",
       "Marital Status                   0\n",
       "Gender                           0\n",
       "Occupation                       0\n",
       "Infirmity                        0\n",
       "Religion                         0\n",
       "household_id                     0\n",
       "dtype: int64"
      ]
     },
     "execution_count": 16,
     "metadata": {},
     "output_type": "execute_result"
    }
   ],
   "source": [
    "data.isnull().sum() #check for the count of missing value(NaN) per column in the dataset"
   ]
  },
  {
   "cell_type": "code",
   "execution_count": 17,
   "metadata": {
    "colab": {
     "base_uri": "https://localhost:8080/"
    },
    "id": "VTO4mi8KExG6",
    "outputId": "8cc68e08-4143-4ffe-b18b-2902d3475290"
   },
   "outputs": [
    {
     "data": {
      "text/plain": [
       "(10601, 12)"
      ]
     },
     "execution_count": 17,
     "metadata": {},
     "output_type": "execute_result"
    }
   ],
   "source": [
    "data = data.dropna()\n",
    "data.shape"
   ]
  },
  {
   "cell_type": "code",
   "execution_count": 18,
   "metadata": {
    "colab": {
     "base_uri": "https://localhost:8080/"
    },
    "id": "QQIcTSQyEyRw",
    "outputId": "44619779-a5f7-4a74-d8df-8f0bf354345d"
   },
   "outputs": [
    {
     "data": {
      "text/plain": [
       "Index(['House Number', 'Street', 'First Name', 'Surname', 'Age',\n",
       "       'Relationship to Head of House', 'Marital Status', 'Gender',\n",
       "       'Occupation', 'Infirmity', 'Religion', 'household_id'],\n",
       "      dtype='object')"
      ]
     },
     "execution_count": 18,
     "metadata": {},
     "output_type": "execute_result"
    }
   ],
   "source": [
    "data.columns #display all column names"
   ]
  },
  {
   "cell_type": "markdown",
   "metadata": {},
   "source": [
    "## Age Pyramid"
   ]
  },
  {
   "cell_type": "code",
   "execution_count": 19,
   "metadata": {
    "id": "TlDC4ERiGIVO"
   },
   "outputs": [],
   "source": [
    "# For age pyramid plotting\n",
    "def plot_age_pyramid(data, age_col='Age', gender_col='Gender', title='Age Pyramid'):\n",
    "    # Bin ages into groups\n",
    "    bins = [0, 5, 15, 25, 35, 45, 55, 65, 75, 85, 120]\n",
    "    labels = ['0-4', '5-14', '15-24', '25-34', '35-44', '45-54', '55-64', '65-74', '75-84', '85+']\n",
    "    data['AgeGroup'] = pd.cut(data[age_col], bins=bins, labels=labels, right=False)\n",
    "\n",
    "    # Group by AgeGroup and Gender\n",
    "    pyramid_data = data.groupby(['AgeGroup', gender_col]).size().unstack(fill_value=0)\n",
    "\n",
    "    # Make male values negative for pyramid effect\n",
    "    pyramid_data['Male'] = -pyramid_data.get('Male', 0)\n",
    "\n",
    "    # Plotting\n",
    "    fig, ax = plt.subplots(figsize=(10, 6))\n",
    "    pyramid_data.plot(kind='barh', stacked=False, ax=ax, color=['#1f77b4', '#ff7f0e'])\n",
    "    ax.set_title(title, fontsize=16)\n",
    "    ax.set_xlabel('Population Count')\n",
    "    ax.set_ylabel('Age Group')\n",
    "    ax.legend(loc='upper right')\n",
    "    ax.xaxis.set_major_locator(MaxNLocator(integer=True))\n",
    "    plt.grid(axis='x', linestyle='--', alpha=0.7)\n",
    "    plt.show()"
   ]
  },
  {
   "cell_type": "code",
   "execution_count": 20,
   "metadata": {
    "id": "jHDYIgVDGTJD"
   },
   "outputs": [],
   "source": [
    "# Age Groups (for children, working, retired)\n",
    "def age_category(age):\n",
    "    if age < 18:\n",
    "        return 'Child'\n",
    "    elif age < 65:\n",
    "        return 'Working Age'\n",
    "    else:\n",
    "        return 'Retired'\n",
    "\n",
    "data['AgeCategory'] = data['Age'].apply(age_category)\n",
    "\n",
    "# Define unemployed group - using Occupation = 'Unemployed' or equivalent\n",
    "data['IsUnemployed'] = data['Occupation'].str.lower().str.contains('unemployed|none|not working')\n",
    "\n",
    "# Define students\n",
    "data['IsStudent'] = data['Occupation'].str.lower().str.contains('student')"
   ]
  },
  {
   "cell_type": "code",
   "execution_count": 21,
   "metadata": {
    "colab": {
     "base_uri": "https://localhost:8080/",
     "height": 335
    },
    "id": "Cg4pnJodGZwm",
    "outputId": "951beb5f-d00e-409f-d3ce-f2979f512c41",
    "scrolled": true
   },
   "outputs": [
    {
     "data": {
      "text/plain": [
       "Infirmity\n",
       "None                   10522\n",
       "Physical Disability       27\n",
       "Deaf                      18\n",
       "Disabled                  10\n",
       "Mental Disability          9\n",
       "Unknown Infection          8\n",
       "Blind                      7\n",
       "Name: count, dtype: int64"
      ]
     },
     "execution_count": 21,
     "metadata": {},
     "output_type": "execute_result"
    }
   ],
   "source": [
    "# Commuters proxy - students + occupation types like 'commuter', 'worker in city' etc.\n",
    "data['IsCommuter'] = data['IsStudent'] | data['Occupation'].str.lower().str.contains('commuter|worker')\n",
    "\n",
    "data['Infirmity'].value_counts()"
   ]
  },
  {
   "cell_type": "code",
   "execution_count": 22,
   "metadata": {
    "colab": {
     "base_uri": "https://localhost:8080/",
     "height": 566
    },
    "id": "28NQ030NGdzN",
    "outputId": "0169d817-6414-414f-afd2-b621fe060ff4"
   },
   "outputs": [
    {
     "data": {
      "image/png": "[encoded data removed]",
      "text/plain": [
       "<Figure size 1000x600 with 1 Axes>"
      ]
     },
     "metadata": {},
     "output_type": "display_data"
    }
   ],
   "source": [
    "#Age Pyramid\n",
    "plot_age_pyramid(data)"
   ]
  },
  {
   "cell_type": "code",
   "execution_count": 23,
   "metadata": {
    "colab": {
     "base_uri": "https://localhost:8080/"
    },
    "id": "edRSj3yLGg4z",
    "outputId": "1591857f-d8f3-4925-b2a2-946d7f5efd2e"
   },
   "outputs": [
    {
     "name": "stdout",
     "output_type": "stream",
     "text": [
      "Population proportions: Children: 23.59%, Working Age: 65.71%, Retired: 10.70%\n"
     ]
    }
   ],
   "source": [
    "# But can test proportion of children vs retirees as proxy of growth potential:\n",
    "child_pct = (data['AgeCategory'] == 'Child').mean()\n",
    "retired_pct = (data['AgeCategory'] == 'Retired').mean()\n",
    "working_pct = (data['AgeCategory'] == 'Working Age').mean()\n",
    "\n",
    "print(f\"Population proportions: Children: {child_pct:.2%}, Working Age: {working_pct:.2%}, Retired: {retired_pct:.2%}\")\n"
   ]
  },
  {
   "cell_type": "code",
   "execution_count": 24,
   "metadata": {
    "colab": {
     "base_uri": "https://localhost:8080/"
    },
    "id": "mCOtFeeVIhiI",
    "outputId": "120a68ac-b707-476a-b61b-5c1d715fef4f"
   },
   "outputs": [
    {
     "name": "stdout",
     "output_type": "stream",
     "text": [
      "Unemployment rate by age group:\n",
      "AgeCategory\n",
      "Child          0.000000\n",
      "Retired        0.040564\n",
      "Working Age    0.088573\n",
      "Name: IsUnemployed, dtype: float64\n"
     ]
    }
   ],
   "source": [
    "# Unemployment rate by age category\n",
    "unemp_by_age = data.groupby('AgeCategory')['IsUnemployed'].mean()\n",
    "print(\"Unemployment rate by age group:\")\n",
    "print(unemp_by_age)"
   ]
  },
  {
   "cell_type": "code",
   "execution_count": 25,
   "metadata": {
    "colab": {
     "base_uri": "https://localhost:8080/",
     "height": 487
    },
    "id": "8inVUHHvIk_X",
    "outputId": "23df9fd1-4d43-4f22-bcd1-b73415cc75d8"
   },
   "outputs": [
    {
     "data": {
      "image/png": "[encoded data removed]",
      "text/plain": [
       "<Figure size 800x500 with 1 Axes>"
      ]
     },
     "metadata": {},
     "output_type": "display_data"
    }
   ],
   "source": [
    "# Visualize unemployment by age group\n",
    "plt.figure(figsize=(8,5))\n",
    "sns.barplot(x=unemp_by_age.index, y=unemp_by_age.values*100, palette='Reds')\n",
    "plt.ylabel('Unemployment Rate (%)')\n",
    "plt.title('Unemployment Rate by Age Group')\n",
    "plt.show()"
   ]
  },
  {
   "cell_type": "code",
   "execution_count": 26,
   "metadata": {
    "colab": {
     "base_uri": "https://localhost:8080/",
     "height": 532
    },
    "id": "CLfsg_9BIn1e",
    "outputId": "ce8f43b0-9b72-4beb-c8be-fe8d4c63b55f"
   },
   "outputs": [
    {
     "data": {
      "image/png": "[encoded data removed]",
      "text/plain": [
       "<Figure size 1000x500 with 1 Axes>"
      ]
     },
     "metadata": {},
     "output_type": "display_data"
    }
   ],
   "source": [
    "# Combine similar religion categories\n",
    "data['Religion'] = data['Religion'].replace({\n",
    "    'Sith': 'Sikh',\n",
    "    'Private': 'Unknown'  # or reverse if you prefer 'Unknown'\n",
    "})\n",
    "\n",
    "# Religious affiliation counts\n",
    "religion_counts = data['Religion'].value_counts()\n",
    "plt.figure(figsize=(10,5))\n",
    "sns.barplot(x=religion_counts.index, y=religion_counts.values, palette='pastel')\n",
    "plt.title('Religious Affiliations in Town')\n",
    "plt.ylabel('Count')\n",
    "plt.xticks(rotation=45)\n",
    "plt.show()"
   ]
  },
  {
   "cell_type": "code",
   "execution_count": 27,
   "metadata": {
    "colab": {
     "base_uri": "https://localhost:8080/",
     "height": 507
    },
    "id": "vn3ngUAKIqg8",
    "outputId": "8b72e3de-bbdf-4871-a44b-efe6f1c80dbd"
   },
   "outputs": [
    {
     "data": {
      "image/png": "[encoded data removed]",
      "text/plain": [
       "<Figure size 800x500 with 1 Axes>"
      ]
     },
     "metadata": {},
     "output_type": "display_data"
    }
   ],
   "source": [
    "# Marital status summary (normalized to get proportions)\n",
    "marital_counts = data['Marital Status'].value_counts(normalize=True)\n",
    "\n",
    "# Plotting\n",
    "plt.figure(figsize=(8, 5))\n",
    "sns.barplot(x=marital_counts.values, y=marital_counts.index, palette='Set2')\n",
    "plt.xlabel('Proportion')\n",
    "plt.ylabel('Marital Status')\n",
    "plt.title('Marital Status Distribution')\n",
    "plt.xlim(0, 1)  # Since proportions range from 0 to 1\n",
    "plt.grid(axis='x', linestyle='--', alpha=0.7)\n",
    "plt.show()"
   ]
  },
  {
   "cell_type": "code",
   "execution_count": 28,
   "metadata": {
    "colab": {
     "base_uri": "https://localhost:8080/"
    },
    "id": "VuCiS4lzItD4",
    "outputId": "77660fb5-5a0f-49ab-dc76-933f84e68240"
   },
   "outputs": [
    {
     "name": "stdout",
     "output_type": "stream",
     "text": [
      "Estimated commuter population: 2860 (26.98%)\n"
     ]
    }
   ],
   "source": [
    "# Commuters estimation:\n",
    "num_commuters = data['IsCommuter'].sum()\n",
    "total_pop = len(data)\n",
    "print(f\"Estimated commuter population: {num_commuters} ({num_commuters/total_pop:.2%})\")"
   ]
  },
  {
   "cell_type": "code",
   "execution_count": 29,
   "metadata": {
    "colab": {
     "base_uri": "https://localhost:8080/",
     "height": 507
    },
    "id": "Uiu5-Ak3Izy2",
    "outputId": "03b9c1bf-f6ac-42e0-d881-2ae678468494",
    "scrolled": true
   },
   "outputs": [
    {
     "data": {
      "image/png": "[encoded data removed]",
      "text/plain": [
       "<Figure size 800x500 with 1 Axes>"
      ]
     },
     "metadata": {},
     "output_type": "display_data"
    }
   ],
   "source": [
    "# Let's create a simple unemployment flag\n",
    "data['Unemployed'] = data['Occupation'].str.contains('unemployed', case=False, na=False)\n",
    "\n",
    "unemp_age = data.groupby('AgeGroup')['Unemployed'].mean().reset_index()\n",
    "unemp_age['Unemployment Rate (%)'] = unemp_age['Unemployed'] * 100\n",
    "\n",
    "plt.figure(figsize=(8,5))\n",
    "sns.barplot(data=unemp_age, x='AgeGroup', y='Unemployment Rate (%)', palette='magma')\n",
    "plt.title('Unemployment Rate by Age Group')\n",
    "plt.ylabel('Unemployment Rate (%)')\n",
    "plt.xlabel('Age Group')\n",
    "plt.show()"
   ]
  },
  {
   "cell_type": "code",
   "execution_count": 30,
   "metadata": {
    "colab": {
     "base_uri": "https://localhost:8080/",
     "height": 530
    },
    "id": "Cb2vxh9IJO45",
    "outputId": "7cd678c7-27e8-4902-b2b8-0826370f29ad"
   },
   "outputs": [
    {
     "data": {
      "image/png": "[encoded data removed]",
      "text/plain": [
       "<Figure size 1200x600 with 2 Axes>"
      ]
     },
     "metadata": {},
     "output_type": "display_data"
    }
   ],
   "source": [
    "# Religion vs Age Group (heatmap)\n",
    "rel_age = pd.crosstab(data['AgeGroup'], data['Religion'])\n",
    "plt.figure(figsize=(12,6))\n",
    "sns.heatmap(rel_age, annot=True, fmt='d', cmap='YlGnBu')\n",
    "plt.title('Religion Distribution Across Age Groups')\n",
    "plt.ylabel('Age Group')\n",
    "plt.xlabel('Religion')\n",
    "plt.show()"
   ]
  },
  {
   "cell_type": "code",
   "execution_count": 31,
   "metadata": {
    "colab": {
     "base_uri": "https://localhost:8080/",
     "height": 480
    },
    "id": "omA6rV-vJg_H",
    "outputId": "1f254a94-2d94-4b44-f051-9f9583fe4ff7"
   },
   "outputs": [
    {
     "data": {
      "image/png": "[encoded data removed]",
      "text/plain": [
       "<Figure size 1200x600 with 1 Axes>"
      ]
     },
     "metadata": {},
     "output_type": "display_data"
    }
   ],
   "source": [
    "# Marital Status vs Occupation (stacked bar)\n",
    "marital_occ = pd.crosstab(data['Marital Status'], data['Gender'])\n",
    "marital_occ_prop = marital_occ.div(marital_occ.sum(axis=1), axis=0)\n",
    "\n",
    "marital_occ_prop.plot(kind='bar', stacked=True, figsize=(12,6), colormap='tab20')\n",
    "plt.title('Gender Distribution by Marital Status')\n",
    "plt.ylabel('Proportion within Marital Status')\n",
    "plt.xlabel('Marital Status')\n",
    "plt.legend(loc='upper right', bbox_to_anchor=(1.15, 1))\n",
    "plt.show()"
   ]
  },
  {
   "cell_type": "code",
   "execution_count": null,
   "metadata": {},
   "outputs": [],
   "source": []
  }
 ],
 "metadata": {
  "colab": {
   "provenance": []
  },
  "kernelspec": {
   "display_name": "Python 3 (ipykernel)",
   "language": "python",
   "name": "python3"
  },
  "language_info": {
   "codemirror_mode": {
    "name": "ipython",
    "version": 3
   },
   "file_extension": ".py",
   "mimetype": "text/x-python",
   "name": "python",
   "nbconvert_exporter": "python",
   "pygments_lexer": "ipython3",
   "version": "3.11.0"
  }
 },
 "nbformat": 4,
 "nbformat_minor": 4
}
